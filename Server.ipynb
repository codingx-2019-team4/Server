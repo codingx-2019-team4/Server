{
 "cells": [
  {
   "cell_type": "code",
   "execution_count": 1,
   "metadata": {
    "scrolled": false
   },
   "outputs": [
    {
     "ename": "IndentationError",
     "evalue": "expected an indented block (<ipython-input-1-17bc6d8421e8>, line 34)",
     "output_type": "error",
     "traceback": [
      "\u001b[0;36m  File \u001b[0;32m\"<ipython-input-1-17bc6d8421e8>\"\u001b[0;36m, line \u001b[0;32m34\u001b[0m\n\u001b[0;31m    def threaded(conn):\u001b[0m\n\u001b[0m      ^\u001b[0m\n\u001b[0;31mIndentationError\u001b[0m\u001b[0;31m:\u001b[0m expected an indented block\n"
     ]
    }
   ],
   "source": [
    "import socket\n",
    "from _thread import *\n",
    "import threading\n",
    "\n",
    "# print_lock = threading.Lock()\n",
    "# lock acquired by client\n",
    "#         print_lock.acquire()\n",
    "# lock released on exit\n",
    "#         print_lock.release()\n",
    "\n",
    "errorMsg = \"error\"\n",
    "\n",
    "\n",
    "#read pgm function\n",
    "def readImg(conn):\n",
    "    imgFile = open('test.pgm', 'wb')  # 開始寫入圖片檔\n",
    "    while True:\n",
    "        try:\n",
    "            imgData = conn.recv(1)\n",
    "            if not imgData:\n",
    "                print(\"error_img1\")\n",
    "                conn.send(errorMsg.encode('utf-8'))\n",
    "                break\n",
    "            imgFile.write(imgData)\n",
    "        except ConnectionResetError as e:\n",
    "            conn.send(errorMsg.encode('utf-8'))\n",
    "            print(\"error_img2\")\n",
    "            break\n",
    "            \n",
    "# def readJson(conn):\n",
    "    #傳json\n",
    "\n",
    "\n",
    "# thread fuction\n",
    "def threaded(conn):\n",
    "    while True:\n",
    "        # data received from client\n",
    "        data = conn.recv(1024)\n",
    "        if data.decode() == \"img\":\n",
    "            readImg(conn)\n",
    "            break\n",
    "            \n",
    "#         if data.decode() == \"json\":\n",
    "#             readJson(conn)\n",
    "#             break\n",
    "            \n",
    "        if not data:\n",
    "            print(\"error\")\n",
    "            break\n",
    "\n",
    "        print(\"Receive data:\", data.decode())\n",
    "        #send success back to client\n",
    "        success_msg = \"successful\"\n",
    "        conn.send(success_msg.encode('utf-8'))\n",
    "    # connection closed\n",
    "    conn.close()\n",
    "\n",
    "\n",
    "if __name__ == '__main__':\n",
    "    # 建立一个服务端\n",
    "    server = socket.socket(socket.AF_INET, socket.SOCK_STREAM)\n",
    "    server.setsockopt(socket.SOL_SOCKET, socket.SO_REUSEADDR, 1)  #防止端口被佔用\n",
    "\n",
    "    ip = socket.gethostbyname(socket.gethostname())  #ip, port\n",
    "    port = 6666\n",
    "\n",
    "    print(\"Host :\", ip)\n",
    "    server.bind((ip, port))  #绑定要监听的端口\n",
    "    server.listen(4)  #开始监听 表示可以使用四个链接排队\n",
    "    print(\"Socket is listening...\")\n",
    "    while True:\n",
    "        conn, addr = server.accept()  #等待链接,多个链接的时候就会出现问题,其实返回了两个值\n",
    "        print('Connected to :', addr[0], ':', addr[1])\n",
    "\n",
    "        # Start a new thread and return its identifier\n",
    "        start_new_thread(threaded, (conn, ))\n",
    "    server.close()"
   ]
  },
  {
   "cell_type": "code",
   "execution_count": null,
   "metadata": {},
   "outputs": [],
   "source": []
  }
 ],
 "metadata": {
  "kernelspec": {
   "display_name": "Python 3",
   "language": "python",
   "name": "python3"
  },
  "language_info": {
   "codemirror_mode": {
    "name": "ipython",
    "version": 3
   },
   "file_extension": ".py",
   "mimetype": "text/x-python",
   "name": "python",
   "nbconvert_exporter": "python",
   "pygments_lexer": "ipython3",
   "version": "3.7.3"
  }
 },
 "nbformat": 4,
 "nbformat_minor": 2
}
